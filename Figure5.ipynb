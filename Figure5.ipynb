{
 "cells": [
  {
   "cell_type": "code",
   "execution_count": 1,
   "metadata": {
    "scrolled": false
   },
   "outputs": [],
   "source": [
    "import scipy.integrate as spi\n",
    "import numpy as np\n",
    "import math\n",
    "import sympy\n",
    "from sympy import *\n",
    "import pylab as pl\n",
    "import matplotlib.pyplot as plt\n",
    "from matplotlib.pyplot import MultipleLocator\n",
    "#if 1+w>1/r,that means vaccinated infected individuals have more cost than unvaccinated infected \n",
    "mu=1\n",
    "gamma1=0.3\n",
    "gamma2=0.6\n",
    "eff=0.25\n",
    "w=0.5\n",
    "#1-w=0.8\n",
    "V=5\n",
    "C=9.5\n",
    "r=C/V\n",
    "#r=C/V,1/r=V/C=1/2\n",
    "Timescale=0.01\n",
    "beta=7\n",
    "S1_average_list=[]\n",
    "S2_average_list=[]\n",
    "I1_average_list=[]\n",
    "I2_average_list=[]\n",
    "R_average_list=[]\n",
    "x_average_list=[]\n",
    "ex_average_list=[]\n",
    "f1_list=[]\n",
    "f2_list=[]\n",
    "list1=[]\n",
    "list2=[]\n",
    "x_solve_list=[]\n",
    "R11_list=[]\n",
    "R22_list=[]\n",
    "x_solve_list=[]\n",
    "alpha_list=np.arange(0.0,1.01,0.05)\n",
    "theta_list=np.arange(0.0,1.01,0.05)\n",
    "#theta_list=theta_list[::-1]\n",
    "x_at_list=np.empty([len(alpha_list),len(theta_list)])\n",
    "x_solve_at_list=np.empty([len(alpha_list),len(theta_list)])\n",
    "I1_FDE=np.empty([len(alpha_list),len(theta_list)])\n",
    "I2_FDE=np.empty([len(alpha_list),len(theta_list)])\n",
    "FDE=np.empty([len(alpha_list),len(theta_list)])\n",
    "cost_curing=np.empty([len(alpha_list),len(theta_list)])\n",
    "cost_vaccinating=np.empty([len(alpha_list),len(theta_list)])\n",
    "cost_sum=np.empty([len(alpha_list),len(theta_list)])\n",
    "#print(x_ew_list)\n",
    "#print(eff_list)\n",
    "i=-1\n",
    "for alpha in alpha_list:\n",
    "    i+=1\n",
    "    j=-1\n",
    "    for theta in theta_list:\n",
    "        j+=1\n",
    "        beta11=beta\n",
    "        beta12=beta/(1+alpha)\n",
    "        beta21=beta/(1+alpha)\n",
    "        beta22=beta/((1+theta)*(1+alpha))\n",
    "        R11=beta11/(gamma1+mu)\n",
    "        R12=beta12/(gamma1+mu)\n",
    "        R21=beta21/(gamma2+mu)\n",
    "        R22=beta22/(gamma2+mu)\n",
    "        p=1-1/(r*(1-w*(1-eff)))\n",
    "#game dynamic\n",
    "#x*(1-x)*((f-w*(1-e)f)C-V)\n",
    "        TS=1\n",
    "        ND=10000\n",
    "        x0=0.1\n",
    "        S10=1-x0\n",
    "        S20=(1-eff)*x0\n",
    "        #set initial value\n",
    "        I10=0.01\n",
    "        I20=0.01\n",
    "        R0=1-S10-S20-I10-I20\n",
    "    #S1=V[0],S2=V[1],I1=V[2],I2=V[3],R=V[4],X=V[5]\n",
    "    #print(Rf1,Rf2,R0,1/(1-eff))\n",
    "    #print(1/(p*(1-eff)),R0,1/p)\n",
    "        #for approximate system\n",
    "        if p<0 or p==0:\n",
    "            x_solve=0\n",
    "        elif p>0 and R11<1/p:\n",
    "            x_solve=0\n",
    "        elif p>0 and R11>1/p and R22<1/(p*(1-eff)):\n",
    "            x ,a,b,c,d= symbols('x,a,b,c,d')\n",
    "            #p=1-1/(r*(1-w*(1-eff)))\n",
    "            a=beta11*(1-x)/(gamma1+mu)\n",
    "            b=beta21*(1-x)/(gamma2+mu)\n",
    "            c=beta12*(1-eff)*x/(gamma1+mu)\n",
    "            d=beta22*(1-eff)*x/(gamma2+mu)\n",
    "            eq_exp =a/2+d/2+((a**2+d**2-2*a*d+4*b*c)**(1/2))/2 -1/p\n",
    "            x_solve= solve(eq_exp, x)[0]    \n",
    "        elif p>0 and R22>1/(p*(1-eff)):\n",
    "            x_solve=1\n",
    "        else:\n",
    "            x_solve=100\n",
    "        INPUT = (S10,S20,I10,I20,R0,x0)\n",
    "        def diff_eqs(INP,t):\n",
    "            Y=np.zeros((6))\n",
    "            VAR = INP\n",
    "    #I2star\n",
    "    #k1=(1-eff*VAR[5]-((gamma2+mu)/(beta*(gamma2+mu)/(gamma1+mu)*(1-VAR[5])/((1-eff)*VAR[5]) +beta))*(1-eff*VAR[5])/((1-eff)*VAR[5]))\n",
    "    #k2=1+(1-VAR[5])/((1-eff)*VAR[5])*(gamma2+mu)/(gamma1+mu)+(gamma1*(1-VAR[5])/((1-eff)*VAR[5])*(gamma2+mu)/(gamma1+mu)+gamma2 )/mu\n",
    "    #I2star=k1/k2\n",
    "    #I1star\n",
    "    #I1star= I2star*(1-VAR[5])/((1-eff)*VAR[5])*(gamma2+mu)/(gamma1+mu)\n",
    "    \n",
    "    #xh=(gamma2+mu-beta*(gamma2+mu)/(gamma1+mu))/(beta*(1-eff-(gamma2+mu)/(gamma1+mu)))\n",
    "            Y[0] = mu*(1-VAR[5])-mu*VAR[0]-beta11*VAR[0]*VAR[2]-beta21*VAR[0]*VAR[3]\n",
    "            Y[1] = mu*(1-eff)*VAR[5]-mu*VAR[1]-beta12*VAR[1]*VAR[2]-beta22*VAR[1]*VAR[3]\n",
    "            Y[2] = beta11*VAR[0]*VAR[2]+beta21*VAR[0]*VAR[3]-gamma1*VAR[2]-mu*VAR[2]\n",
    "            Y[3] = beta12*VAR[1]*VAR[2]+beta22*VAR[1]*VAR[3]-gamma2*VAR[3]-mu*VAR[3]\n",
    "            Y[4] = mu*eff*VAR[5]+gamma1*VAR[2]+gamma2*VAR[3]-mu*VAR[4]\n",
    "            Y[5] = Timescale*VAR[5]*(1-VAR[5])*((1-mu/(beta11*VAR[2]+beta21*VAR[3]+mu)-w*(1-eff)*(1-mu/(beta12*VAR[2]+beta22*VAR[3]+mu)))*C-V)\n",
    "            return Y\n",
    "        t_range = np.arange(0.0, ND+TS, TS) \n",
    "#odeint solve\n",
    "        RES = spi.odeint(diff_eqs,INPUT,t_range)\n",
    "    #infection risk\n",
    "        f1=1-mu/(beta11*RES[-1,2]+beta21*RES[-1,3]+mu)\n",
    "        f2=1-mu/(beta12*RES[-1,2]+beta22*RES[-1,3]+mu)\n",
    "    #print(f1,f2)\n",
    "        S1_average=np.mean(RES[-500:-1,0])\n",
    "        S2_average=np.mean(RES[-500:-1,1])\n",
    "        I1_average=np.mean(RES[-500:-1,2])\n",
    "        I2_average=np.mean(RES[-500:-1,3])\n",
    "        R_average=np.mean(RES[-500:-1,4])\n",
    "        x_average=np.mean(RES[-500:-1,5])\n",
    "        ex_average=x_average*eff\n",
    "        S1_average_list.append(S1_average)\n",
    "        S2_average_list.append(S2_average)\n",
    "        I1_average_list.append(I1_average)\n",
    "        I2_average_list.append(I2_average)\n",
    "        R_average_list.append(R_average)\n",
    "        x_average_list.append(x_average)\n",
    "        ex_average_list.append(ex_average)\n",
    "        f1_list.append(f1)\n",
    "        f2_list.append(f2)\n",
    "        R11_list.append(R11)\n",
    "        R22_list.append(R22)\n",
    "        list1.append(1/(p*(1-eff)))\n",
    "        list2.append(1/p)\n",
    "        x_solve_list.append(x_solve)\n",
    "        x_at_list[i][j]=x_average\n",
    "        x_solve_at_list[i][j]=x_solve\n",
    "        I1_FDE[i][j]=I1_average\n",
    "        I2_FDE[i][j]=I2_average\n",
    "        FDE[i][j]=I1_average+I2_average\n",
    "        cost_curing[i][j]=(I1_average+w*I2_average)*C\n",
    "        cost_vaccinating[i][j]=x_average*V\n",
    "        cost_sum[i][j]=x_average*V+(I1_average+w*I2_average)*C\n",
    "    #print(1/(p*(1-eff)),R0,1/p,x_average,x_solve)\n",
    "    #print(x_star_d1)\n",
    "        #print(I1_average,I2_average)\n",
    "#print(x_average_list,ex_average_list,eff_list)\n"
   ]
  },
  {
   "cell_type": "code",
   "execution_count": 2,
   "metadata": {},
   "outputs": [],
   "source": [
    "data_result_list=np.array([x_at_list])\n",
    "data_result_name_list=np.array(['x_at_list'])"
   ]
  },
  {
   "cell_type": "code",
   "execution_count": 3,
   "metadata": {},
   "outputs": [],
   "source": [
    "#data_result_list=np.array([x_at_list,I1_FDE,I2_FDE,FDE,cost_curing,cost_vaccinating,cost_sum])\n",
    "#data_result_name_list=np.array(['x_at_list','I1_FDE','I2_FDE','FDE','cost_curing','cost_vaccinating','cost_sum'])"
   ]
  },
  {
   "cell_type": "code",
   "execution_count": 4,
   "metadata": {
    "collapsed": true
   },
   "outputs": [
    {
     "name": "stderr",
     "output_type": "stream",
     "text": [
      "D:\\anaconda\\lib\\site-packages\\ipykernel_launcher.py:23: RuntimeWarning: invalid value encountered in double_scalars\n",
      "D:\\anaconda\\lib\\site-packages\\ipykernel_launcher.py:27: RuntimeWarning: invalid value encountered in double_scalars\n"
     ]
    }
   ],
   "source": [
    "###record the data for revision\n",
    "import xlwt\n",
    "f = xlwt.Workbook('encoding = utf-8') \n",
    "sheet1 = f.add_sheet('value',cell_overwrite_ok=True)\n",
    "sheet2 = f.add_sheet('increase',cell_overwrite_ok=True)\n",
    "sheet3 = f.add_sheet('I1_FDE',cell_overwrite_ok=True)\n",
    "sheet4 = f.add_sheet('I2_FDE',cell_overwrite_ok=True)\n",
    "sheet5 = f.add_sheet('FDE',cell_overwrite_ok=True)\n",
    "sheet6 = f.add_sheet('cost_curing',cell_overwrite_ok=True)\n",
    "sheet7 = f.add_sheet('cost_vaccinating',cell_overwrite_ok=True)\n",
    "sheet8 = f.add_sheet('cost_sum',cell_overwrite_ok=True)\n",
    "for i in range(len(alpha_list)):\n",
    "    for j in range(len(theta_list)):\n",
    "        sheet1.write(i,j,x_solve_at_list[i][j])\n",
    "increase_alpha_list=[]\n",
    "increase_theta_list=[]\n",
    "i=0\n",
    "for i in range(len(theta_list)):\n",
    "    increase_alpha_list.append((x_solve_at_list[-1][i]-x_solve_at_list[0][i])/x_solve_at_list[0][i])\n",
    "j=0\n",
    "for j in range(len(alpha_list)):\n",
    "    increase_theta_list.append((x_solve_at_list[j][-1]-x_solve_at_list[j][0])/x_solve_at_list[j][0])\n",
    "    \n",
    "for i in range(len(theta_list)):\n",
    "        sheet2.write(i,1,increase_alpha_list[i]) \n",
    "for j in range(len(theta_list)):\n",
    "        sheet2.write(j,2,increase_theta_list[j])\n",
    "#DFE\n",
    "for i in range(len(alpha_list)):\n",
    "    for j in range(len(theta_list)):\n",
    "        sheet3.write(i,j,I1_FDE[i][j])\n",
    "for i in range(len(alpha_list)):\n",
    "    for j in range(len(theta_list)):\n",
    "        sheet4.write(i,j,I2_FDE[i][j])\n",
    "for i in range(len(alpha_list)):\n",
    "    for j in range(len(theta_list)):\n",
    "        sheet5.write(i,j,FDE[i][j])\n",
    "for i in range(len(alpha_list)):\n",
    "    for j in range(len(theta_list)):\n",
    "        sheet6.write(i,j,cost_curing[i][j])\n",
    "for i in range(len(alpha_list)):\n",
    "    for j in range(len(theta_list)):\n",
    "        sheet7.write(i,j,cost_vaccinating[i][j])\n",
    "for i in range(len(alpha_list)):\n",
    "    for j in range(len(theta_list)):\n",
    "        sheet8.write(i,j,cost_sum[i][j])\n",
    "#f.save('E://data.xls')"
   ]
  },
  {
   "cell_type": "code",
   "execution_count": 5,
   "metadata": {},
   "outputs": [],
   "source": [
    "import numpy as np\n",
    "import matplotlib\n",
    "import matplotlib.pyplot as plt\n",
    "import seaborn as sns\n",
    "\n"
   ]
  },
  {
   "cell_type": "code",
   "execution_count": 6,
   "metadata": {
    "scrolled": true
   },
   "outputs": [],
   "source": [
    "alpha_list=[0,'',0.1,'' ,0.2 , '', 0.3 ,'',0.4 ,'',0.5 ,'',0.6,'',0.7,'',0.8,'',0.9 ,'', 1]\n",
    "#alpha_list=alpha_list[::-1]\n",
    "theta_list=[0,'',0.1,'' ,0.2 , '', 0.3 ,'',0.4 ,'',0.5 ,'',0.6,'',0.7,'',0.8,'',0.9 ,'', 1]"
   ]
  },
  {
   "cell_type": "code",
   "execution_count": 7,
   "metadata": {},
   "outputs": [
    {
     "data": {
      "image/png": "[encoded data removed]",
      "text/plain": [
       "<Figure size 432x288 with 2 Axes>"
      ]
     },
     "metadata": {
      "needs_background": "light"
     },
     "output_type": "display_data"
    }
   ],
   "source": [
    "plt.rc('font', family='Times New Roman')\n",
    "plt.rcParams[\"font.weight\"] = \"bold\"\n",
    "plt.rcParams[\"axes.labelweight\"] = \"bold\"\n",
    "h = sns.heatmap(data=x_at_list,\n",
    "    cmap='YlGnBu',\n",
    "                # center=1,\n",
    "                linewidths=.1, \n",
    "                annot=False,  \n",
    "                cbar=False,\n",
    "                # fmt='.3f',# \n",
    "                vmax=np.max(x_at_list),\n",
    "                vmin=np.min(x_at_list),\n",
    "                yticklabels=alpha_list,\n",
    "                xticklabels=theta_list,)\n",
    "    \n",
    "cb = h.figure.colorbar(h.collections[0]) #colorbar\n",
    "cb.ax.tick_params(labelsize=28)  \n",
    "plt.title('Uptake level', fontsize=20) # 'WS(m/s)'  u'T(°C)'  'P(mbar)'\n",
    "plt.xticks(fontsize=10)\n",
    "plt.yticks(fontsize=10)\n",
    "plt.xlabel(r'$\\theta$', fontsize=15)  \n",
    "plt.ylabel(r'$\\alpha$', fontsize=15)   \n",
    "plt.rcParams['savefig.dpi'] = 300 \n",
    "plt.rcParams['figure.dpi'] =600 \n",
    "plt.tight_layout()\n",
    "\n",
    "#plt.show()\n",
    "plt.savefig(file_path  = r'E:',fname='figure5_2.jpg')"
   ]
  },
  {
   "cell_type": "code",
   "execution_count": null,
   "metadata": {},
   "outputs": [],
   "source": []
  },
  {
   "cell_type": "code",
   "execution_count": null,
   "metadata": {},
   "outputs": [],
   "source": [
    "\n"
   ]
  },
  {
   "cell_type": "code",
   "execution_count": null,
   "metadata": {},
   "outputs": [],
   "source": [
    "\n"
   ]
  },
  {
   "cell_type": "code",
   "execution_count": null,
   "metadata": {},
   "outputs": [],
   "source": [
    "\n",
    "    \n",
    "    "
   ]
  }
 ],
 "metadata": {
  "kernelspec": {
   "display_name": "Python 3",
   "language": "python",
   "name": "python3"
  },
  "language_info": {
   "codemirror_mode": {
    "name": "ipython",
    "version": 3
   },
   "file_extension": ".py",
   "mimetype": "text/x-python",
   "name": "python",
   "nbconvert_exporter": "python",
   "pygments_lexer": "ipython3",
   "version": "3.7.4"
  }
 },
 "nbformat": 4,
 "nbformat_minor": 2
}
